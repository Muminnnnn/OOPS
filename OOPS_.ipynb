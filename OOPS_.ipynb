{
  "nbformat": 4,
  "nbformat_minor": 0,
  "metadata": {
    "colab": {
      "provenance": []
    },
    "kernelspec": {
      "name": "python3",
      "display_name": "Python 3"
    },
    "language_info": {
      "name": "python"
    }
  },
  "cells": [
    {
      "cell_type": "code",
      "execution_count": null,
      "metadata": {
        "id": "l6MnGcKGkpN_"
      },
      "outputs": [],
      "source": []
    },
    {
      "cell_type": "markdown",
      "source": [
        "#OOPS\n"
      ],
      "metadata": {
        "id": "eBOcnl53k92s"
      }
    },
    {
      "cell_type": "code",
      "source": [],
      "metadata": {
        "id": "fyLTMOFglGbo"
      },
      "execution_count": null,
      "outputs": []
    },
    {
      "cell_type": "markdown",
      "source": [
        "Here are the answers to all the questions shown in the image, answered serial-wise:\n",
        "\n",
        "\n",
        "---\n",
        "\n",
        "1. What is Object-Oriented Programming (OOP)?\n",
        "OOP is a programming paradigm that uses objects and classes to structure software. It allows for concepts like encapsulation, inheritance, and polymorphism.\n",
        "\n",
        "2. What is a class in OOP?\n",
        "A class is a blueprint for creating objects. It defines attributes and methods that its objects (instances) will have.\n",
        "\n",
        "3. What is an object in OOP?\n",
        "An object is an instance of a class. It contains data and behaviors defined by the class.\n",
        "\n",
        "4. What is the difference between abstraction and encapsulation?\n",
        "\n",
        "Abstraction hides complex implementation details and shows only the necessary features.\n",
        "\n",
        "Encapsulation restricts direct access to an object’s data and methods, often using access modifiers.\n",
        "\n",
        "\n",
        "5. What are dunder methods in Python?\n",
        "Dunder (double underscore) methods like _init, __str, and __add_ are special methods with double underscores before and after their names. They're used to define behavior for operators and built-in functions.\n",
        "\n",
        "6. Explain the concept of inheritance in OOP.\n",
        "Inheritance allows a class (child) to acquire properties and behaviors (methods) from another class (parent).\n",
        "\n",
        "7. What is polymorphism in OOP?\n",
        "Polymorphism allows objects of different classes to be treated as objects of a common superclass. It enables methods to behave differently based on the object.\n",
        "\n",
        "8. How is encapsulation achieved in Python?\n",
        "Encapsulation is achieved using private (var) and protected (_var) access modifiers and by defining class methods to access and modify data.\n",
        "\n",
        "9. What is a constructor in Python?\n",
        "A constructor is a special method (_init_) that is automatically called when an object is instantiated.\n",
        "\n",
        "10. What are class and static methods in Python?\n",
        "\n",
        "Class method uses @classmethod and takes cls as its first argument.\n",
        "\n",
        "Static method uses @staticmethod and doesn't take self or cls as a first parameter.\n",
        "\n",
        "\n",
        "11. What is method overloading in Python?\n",
        "Python does not support method overloading directly. It can be achieved by using default arguments or variable-length arguments.\n",
        "\n",
        "12. What is method overriding in OOP?\n",
        "Method overriding is when a subclass provides a specific implementation of a method that is already defined in its superclass.\n",
        "\n",
        "13. What is a property decorator in Python?\n",
        "The @property decorator allows you to define a method that can be accessed like an attribute, enabling getter/setter functionality.\n",
        "\n",
        "14. Why is polymorphism important in OOP?\n",
        "Polymorphism increases flexibility and scalability by allowing functions to use objects of different types interchangeably.\n",
        "\n",
        "15. What is an abstract class in Python?\n",
        "An abstract class cannot be instantiated and usually contains abstract methods that must be implemented by subclasses. It is defined using the abc module.\n",
        "\n",
        "16. What are the advantages of OOP?\n",
        "\n",
        "Reusability via inheritance\n",
        "\n",
        "Encapsulation for data protection\n",
        "\n",
        "Easier maintenance\n",
        "\n",
        "Polymorphism for flexibility\n",
        "\n",
        "Modularity\n",
        "\n",
        "\n",
        "17. What is the difference between a class variable and an instance variable?\n",
        "\n",
        "Class variable is shared among all instances of a class.\n",
        "\n",
        "Instance variable is unique to each instance.\n",
        "\n",
        "\n",
        "18. What is multiple inheritance in Python?\n",
        "Multiple inheritance is when a class inherits from more than one parent class.\n",
        "\n",
        "19. Explain the purpose of _str_ and _repr_ methods in Python.\n",
        "\n",
        "_str_: Returns a readable string representation of an object (used by print()).\n",
        "\n",
        "_repr_: Returns an unambiguous representation of the object, useful for debugging.\n",
        "\n",
        "\n",
        "20. What is the significance of the super() function in Python?\n",
        "super() is used to call methods from a parent class, especially useful in method overriding and multiple inheritance.\n",
        "\n",
        "21. What is the significance of the _del_ method in Python?\n",
        "_del_ is a destructor method called when an object is about to be destroyed to clean up resources.\n",
        "\n",
        "22. What is the difference between @staticmethod and @classmethod in Python?\n",
        "\n",
        "@staticmethod does not access class or instance data.\n",
        "\n",
        "@classmethod accesses class-level data and takes cls as its argument.\n",
        "\n",
        "\n",
        "23. How does polymorphism work in Python with inheritance?\n",
        "With inheritance, polymorphism allows a child class to override parent methods, and the correct method is called based on the object type.\n",
        "\n",
        "24. What is method chaining in Python OOP?\n",
        "Method chaining allows multiple methods to be called in a single line by returning self from each method.\n",
        "25. What is the purpose of the _call_ method in python?\n",
        "The _call_ method in Python lets an object be called like a function. It's useful for creating callable objects, often used in decorators, wrappers, or when you want objects to have function-like behavior."
      ],
      "metadata": {
        "id": "pPfKHMPElUpQ"
      }
    },
    {
      "cell_type": "code",
      "source": [],
      "metadata": {
        "id": "zOCBhIlvlXfz"
      },
      "execution_count": null,
      "outputs": []
    }
  ]
}